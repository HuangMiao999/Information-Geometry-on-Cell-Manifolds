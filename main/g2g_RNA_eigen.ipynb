{
 "cells": [
  {
   "cell_type": "code",
   "execution_count": 1,
   "id": "a426ba3c",
   "metadata": {},
   "outputs": [],
   "source": [
    "import scvelo as scv\n",
    "import dynamo as dyn\n",
    "import numpy as np\n",
    "from anndata import AnnData\n",
    "# import loompy\n",
    "from matplotlib import pyplot as plt\n",
    "from sklearn.preprocessing import StandardScaler,MinMaxScaler\n",
    "from scipy.cluster.hierarchy import fcluster,leaders\n",
    "from sklearn.decomposition import PCA\n",
    "from scipy.linalg import inv\n",
    "from scipy.cluster.hierarchy import dendrogram, linkage\n",
    "from sklearn.mixture import GaussianMixture\n",
    "from RKHS import SparseVFC\n",
    "from RKHS import Jacobian_rkhs_gaussian\n",
    "from scipy.stats import multivariate_normal\n",
    "from scipy.sparse import csr_matrix\n",
    "import pandas as pd"
   ]
  },
  {
   "cell_type": "code",
   "execution_count": 2,
   "id": "42ea4669",
   "metadata": {},
   "outputs": [],
   "source": [
    "import argparse\n",
    "import random\n",
    "\n",
    "import scipy.sparse as sp\n",
    "import scipy.sparse.csgraph\n",
    "import sklearn.linear_model as sklm\n",
    "import sklearn.metrics as skm\n",
    "import sklearn.model_selection as skms\n",
    "import torch\n",
    "import torch.nn as nn\n",
    "import torch.nn.functional as F\n",
    "import torch.optim as optim\n",
    "from ignite.engine import Engine, Events\n",
    "from ignite.handlers import ModelCheckpoint\n",
    "from torch.utils.data import DataLoader, IterableDataset, get_worker_info\n",
    "\n",
    "CHECKPOINT_PREFIX = \"g2g\"\n",
    "\n",
    "from g2g_model_Fisher import *\n",
    "from utils import *\n",
    "# from minepy import MINE\n",
    "from sklearn.preprocessing import MinMaxScaler"
   ]
  },
  {
   "cell_type": "code",
   "execution_count": 3,
   "id": "b774f7f4",
   "metadata": {},
   "outputs": [
    {
     "name": "stdout",
     "output_type": "stream",
     "text": [
      "1.10.0\n",
      "11.3\n"
     ]
    },
    {
     "data": {
      "text/plain": [
       "True"
      ]
     },
     "execution_count": 3,
     "metadata": {},
     "output_type": "execute_result"
    }
   ],
   "source": [
    "print(torch.__version__)\n",
    "print(torch.version.cuda)\n",
    "print(torch.cuda.is_available())\n",
    "print(torch.cuda.device_count())\n",
    "print(torch.cuda.current_device())"
   ]
  },
  {
   "cell_type": "code",
   "execution_count": 4,
   "id": "4a1144ed",
   "metadata": {},
   "outputs": [],
   "source": [
    "data_path='data/'\n",
    "result_path='results/'\n",
    "adata0=scv.read('DG_bin.h5ad', cache=True)"
   ]
  },
  {
   "cell_type": "code",
   "execution_count": null,
   "id": "e1795bac",
   "metadata": {},
   "outputs": [],
   "source": [
    "gene_arr=adata0.var.index.values\n",
    "X_pca=adata0.obsm['X_pca']\n",
    "X_umap=adata0.obsm['X_umap']\n",
    "cell_vpt=adata0.obs['velocity_pseudotime'].values#adata0.obs['latent_time'].values#\n",
    "Xs=adata0.layers['Ms']#adata.X.A#\n",
    "X_pca.shape"
   ]
  },
  {
   "cell_type": "code",
   "execution_count": null,
   "id": "0414f846",
   "metadata": {},
   "outputs": [],
   "source": [
    "#-------data preprocessing\n",
    "k_nei=10\n",
    "adata=adata0.copy()\n",
    "scv.pp.neighbors(adata, n_neighbors=k_nei)\n",
    "scv.pp.pca(adata,n_comps=50)\n",
    "scv.pp.moments(adata, n_pcs=50, n_neighbors=k_nei)"
   ]
  },
  {
   "cell_type": "code",
   "execution_count": null,
   "id": "e2df00e9",
   "metadata": {},
   "outputs": [],
   "source": [
    "cell_nei = np.load('results/cell_nei.npy')\n",
    "nei_w = np.load('results/nei_w.npy')\n",
    "\n",
    "def smooth_func(X_val,cell_nei=cell_nei,nei_w=nei_w):\n",
    "    X_s=X_val.copy()\n",
    "    for ci in range(len(X_val)):\n",
    "        X_s[ci]=np.dot(X_val[cell_nei[ci,:]],nei_w[ci,:])\n",
    "    return(X_s)"
   ]
  },
  {
   "cell_type": "code",
   "execution_count": null,
   "id": "800998c3",
   "metadata": {},
   "outputs": [],
   "source": [
    "encoder = torch.load('results/encoder.pt')\n",
    "# encoder = torch.load('results/encoder L=4,K=1.pt')"
   ]
  },
  {
   "cell_type": "code",
   "execution_count": 114,
   "id": "438841ff",
   "metadata": {},
   "outputs": [],
   "source": [
    "# X=Xs\n",
    "X=Xs/np.mean(np.abs(Xs),axis=0)\n",
    "# X=adata.X.A\n",
    "mu, sigma = encoder(torch.tensor(X))\n",
    "mu_learned = mu.detach().numpy()\n",
    "sigma_learned = sigma.detach().numpy()\n",
    "latent_z = np.hstack((mu_learned,sigma_learned))\n",
    "\n",
    "L = np.load('results/latent_dim.npy')\n",
    "Fisher_g=np.zeros((X.shape[0],L*2,L*2))\n",
    "for i in range(X.shape[0]):\n",
    "    for j in range(L):\n",
    "        Fisher_g[i,2*j,2*j]=1/sigma_learned[i,j]**2\n",
    "        Fisher_g[i,2*j+1,2*j+1]=2/sigma_learned[i,j]**2"
   ]
  },
  {
   "cell_type": "code",
   "execution_count": null,
   "id": "b404fd6a",
   "metadata": {},
   "outputs": [],
   "source": [
    "crc = np.load('results/crc')\n",
    "crc_eu = np.load('results/crc_eu')\n",
    "crc_smooth = np.save('results/crc_smooth')"
   ]
  },
  {
   "cell_type": "code",
   "execution_count": null,
   "id": "0d1cf3ea",
   "metadata": {},
   "outputs": [],
   "source": [
    "#--------------eigengene analysis------------ \n",
    "# -----here we use the first two PCs of each module as coordinates, comparing with only PC1 eigen gene, this \n",
    "#--------coordinates can give right distribution of information velocity"
   ]
  },
  {
   "cell_type": "code",
   "execution_count": null,
   "id": "81dbb66f",
   "metadata": {},
   "outputs": [],
   "source": [
    "Xs=adata.layers['Ms']#adata.X.A#\n",
    "Xu=adata.layers['Mu']\n",
    "scaler=StandardScaler()#MinMaxScaler()#\n",
    "X=scaler.fit_transform(Xs)\n",
    "velo=np.array(adata.layers['velocity'])\n",
    "\n",
    "X_corr=np.corrcoef(X, rowvar=False)\n",
    "plt.imshow(X_corr)\n",
    "plt.colorbar()\n",
    "plt.show()\n",
    "\n",
    "Z=linkage((1-X_corr)[np.triu_indices(X_corr.shape[0],k=1)],method='weighted')#method='weighted')\n",
    "dg=dendrogram(Z)\n",
    "X_re= X[:,dg['leaves']]#X_re reorder X by clustering\n",
    "\n",
    "X_corr_re=np.corrcoef(X_re, rowvar=False)\n",
    "\n",
    "plt.figure(figsize=(9,6))\n",
    "plt.imshow(X_corr_re, aspect='auto', cmap=plt.cm.coolwarm, interpolation='nearest',origin='lower')\n",
    "\n",
    "plt.xlabel('Gene',fontsize=16,fontweight='bold')\n",
    "plt.ylabel('Gene',fontsize=16,fontweight='bold')\n",
    "\n",
    "plt.xticks(fontsize=12,fontweight='bold')\n",
    "plt.yticks(fontsize=12,fontweight='bold')\n",
    "plt.colorbar()\n",
    "plt.savefig(result_path+'EG_heatmap.png',dpi=300)\n",
    "plt.show()"
   ]
  },
  {
   "cell_type": "code",
   "execution_count": null,
   "id": "ec6b0f35",
   "metadata": {},
   "outputs": [],
   "source": [
    "td=0.99\n",
    "T=fcluster(Z, t=td, criterion='distance')\n",
    "# T=fcluster(Z, t=td, criterion='maxclust')\n",
    "T_re=T[dg['leaves']]\n",
    "\n",
    "X_corr_label=X_corr_re.copy()\n",
    "for i in range(X_corr_re.shape[0]):\n",
    "    X_corr_label[:,i]=T_re[i]\n",
    "    X_corr_label[i,:]=T_re[i]\n",
    "\n",
    "plt.imshow(X_corr_label, aspect='auto', cmap=plt.cm.coolwarm, interpolation='nearest',origin='lower')\n",
    "plt.colorbar()\n",
    "plt.show()"
   ]
  },
  {
   "cell_type": "code",
   "execution_count": null,
   "id": "c5c5d06f",
   "metadata": {},
   "outputs": [],
   "source": [
    "# eigen gene is the value of first principal component of each community\n",
    "def eigen_gene(X_re,T_re):#return the weights of each gene in correponding eigen gene\n",
    "    eigen_X_w1=[]\n",
    "    eigen_X_w2=[]\n",
    "    for i in np.unique(T_re):\n",
    "        pca=PCA(n_components=10).fit(X_re[:,T_re==i])\n",
    "        print(pca.explained_variance_ratio_)\n",
    "        pc1=pca.transform(X_re[:,T_re==i])[:,0]\n",
    "        pc2=pca.transform(X_re[:,T_re==i])[:,1]\n",
    "        eigen_X_w1.append(pca.components_[0,:])\n",
    "        eigen_X_w2.append(pca.components_[1,:])\n",
    "#         eigen_gene_size.append(np.where(T_re==i)[0].shape[0])\n",
    "    return eigen_X_w1,eigen_X_w2"
   ]
  },
  {
   "cell_type": "code",
   "execution_count": null,
   "id": "58d3b55e",
   "metadata": {},
   "outputs": [],
   "source": [
    "eigen_X_w1,eigen_X_w2=eigen_gene(X_re,T_re)\n",
    "eigen_dim=len(np.unique(T_re))\n",
    "print(eigen_dim)"
   ]
  },
  {
   "cell_type": "code",
   "execution_count": null,
   "id": "d149a2c2",
   "metadata": {},
   "outputs": [],
   "source": [
    "#---------eigen gene of each single cell----------------\n",
    "cell_eigen_X1=np.zeros((X_re.shape[0],eigen_dim))\n",
    "cell_eigen_X2=np.zeros((X_re.shape[0],eigen_dim))\n",
    "for j in range(X_re.shape[0]):\n",
    "    for k in range(len(eigen_X_w1)):\n",
    "        cell_eigen_X1[j,k]=np.dot(eigen_X_w1[k],X_re[j,T_re==k+1])\n",
    "        cell_eigen_X2[j,k]=np.dot(eigen_X_w2[k],X_re[j,T_re==k+1])"
   ]
  },
  {
   "cell_type": "code",
   "execution_count": null,
   "id": "0d36d8d7",
   "metadata": {},
   "outputs": [],
   "source": [
    "# for ei in range(eigen_dim):\n",
    "#     plt.scatter(X_pca[:,0],X_pca[:,1],s=10,c=cell_eigen_X2[:,ei],cmap=plt.cm.jet)\n",
    "#     plt.xlabel('PC1',fontsize=14)\n",
    "#     plt.ylabel('PC2',fontsize=14)\n",
    "#     clb=plt.colorbar()\n",
    "#     clb.ax.set_ylabel('Eigen-gene'+str(ei+1),fontsize=14)\n",
    "#     plt.savefig(result_path+'DG_eigengene'+str(ei+1)+'.png')\n",
    "#     plt.show()"
   ]
  },
  {
   "cell_type": "code",
   "execution_count": null,
   "id": "de56ffdb",
   "metadata": {},
   "outputs": [],
   "source": [
    "# for ci in range(eigen_dim):\n",
    "#     plt.scatter(cell_vpt,cell_eigen_X1[:,ci],s=10,c=cell_vpt,cmap=plt.cm.jet)\n",
    "#     plt.xlabel('pseudotime',fontsize=14)\n",
    "#     plt.ylabel('Eigengene'+str(ci+1),fontsize=14)\n",
    "\n",
    "#     # clb=plt.colorbar()\n",
    "#     # clb.ax.set_ylabel('Eigen-gene',fontsize=14)\n",
    "#     plt.savefig(result_path+'DG_eigengene'+str(ci+1)+'_vpt.png')\n",
    "#     plt.show()\n",
    "\n",
    "# scaler=MinMaxScaler()\n",
    "# norm_cell_eigen_X=scaler.fit_transform(cell_eigen_X)\n",
    "\n",
    "# plt.scatter(cell_vpt,norm_cell_eigen_X[:,0]-norm_cell_eigen_X[:,1],s=10,cmap=plt.cm.jet)\n",
    "# plt.xlabel('pseudotime',fontsize=14)\n",
    "# plt.show()\n",
    "\n",
    "plt.scatter(cell_vpt,cell_eigen_X1[:,0])\n",
    "plt.scatter(cell_vpt,cell_eigen_X1[:,1])\n",
    "plt.scatter(cell_vpt,cell_eigen_X1[:,2])\n",
    "plt.xlabel('velovity psuedotime',fontsize=14,weight='bold')\n",
    "plt.ylabel('eigengene1',fontsize=14,weight='bold')\n",
    "# plt.twinx()\n",
    "# plt.scatter(cell_vpt,orc_smooth,c='blue',label='curvature')\n",
    "# plt.twinx()\n",
    "# plt.scatter(cell_vpt,zv1_smooth,c='orange',label='info velo')\n",
    "plt.show()\n",
    "\n",
    "plt.scatter(cell_vpt,cell_eigen_X2[:,0])\n",
    "plt.scatter(cell_vpt,cell_eigen_X2[:,1])\n",
    "plt.scatter(cell_vpt,cell_eigen_X2[:,2])\n",
    "plt.xlabel('velovity psuedotime',fontsize=14,weight='bold')\n",
    "plt.ylabel('eigengene2',fontsize=14,weight='bold')\n",
    "# plt.twinx()\n",
    "# plt.scatter(cell_vpt,orc_smooth,c='blue',label='curvature')\n",
    "# plt.twinx()\n",
    "# plt.scatter(cell_vpt,zv1_smooth,c='orange',label='info velo')\n",
    "plt.show()"
   ]
  },
  {
   "cell_type": "code",
   "execution_count": null,
   "id": "37eb15a8",
   "metadata": {},
   "outputs": [],
   "source": [
    "cell_eigen_X=np.hstack((cell_eigen_X1,cell_eigen_X2))"
   ]
  },
  {
   "cell_type": "code",
   "execution_count": null,
   "id": "32661916",
   "metadata": {},
   "outputs": [],
   "source": [
    "model = nn.Sequential(\n",
    "    nn.Linear(cell_eigen_X.shape[1], 128),\n",
    "    nn.ReLU(),\n",
    "    nn.Linear(128,64),\n",
    "    nn.ReLU(),\n",
    "    nn.Linear(64,2*L),\n",
    ")\n",
    "\n",
    "# Define your loss function and optimizer\n",
    "loss_fn = nn.MSELoss()\n",
    "optimizer = SGD(model.parameters(), lr=0.01, weight_decay=0.01, momentum=0.8)\n",
    "\n",
    "x_in=torch.tensor(cell_eigen_X.astype(np.float32))\n",
    "x_out=torch.tensor(latent_z.astype(np.float32))\n",
    "# Train the model\n",
    "for epoch in range(500):  # number of epochs\n",
    "    # Forward pass\n",
    "    output = model(x_in)\n",
    "    loss = loss_fn(output,x_out) \n",
    "    # Backward pass and optimize\n",
    "    optimizer.zero_grad()\n",
    "    loss.backward()\n",
    "    optimizer.step()\n",
    "\n",
    "    # Print loss for each epoch\n",
    "#         print(f'Epoch {epoch+1}, Loss: {loss.item()}')\n",
    "\n",
    "# Initialize a tensor to store the gradients\n",
    "pZ_pEg = np.zeros([cell_eigen_X.shape[0], L*2, cell_eigen_X.shape[1]])\n",
    "\n",
    "# Compute the gradients\n",
    "for i in range(cell_eigen_X.shape[0]):\n",
    "    x0=torch.tensor(cell_eigen_X[i,:].astype(np.float32),requires_grad=True)\n",
    "    z=model(x0)\n",
    "    for j in range(2*L):\n",
    "        x0.grad = None       \n",
    "        z[j].backward(retain_graph=True)\n",
    "        pZ_pEg[i,j,:] = x0.grad.detach()\n",
    "print(pZ_pEg.shape)"
   ]
  },
  {
   "cell_type": "code",
   "execution_count": null,
   "id": "85d4b58c",
   "metadata": {},
   "outputs": [],
   "source": [
    "eigen_gij=np.zeros((X.shape[0],eigen_dim*2,eigen_dim*2))\n",
    "for l in range(X.shape[0]):\n",
    "\n",
    "    for p in range(eigen_dim*2):\n",
    "        for q in range(eigen_dim*2):\n",
    "            for gi in range(L):\n",
    "                eigen_gij[l,p,q]+=(1/latent_z[l,L+gi]**2)*pZ_pEg[l,gi,p]*pZ_pEg[l,gi,q]+\\\n",
    "                                  (2/latent_z[l,L+gi]**2)*pZ_pEg[l,gi+L,p]*pZ_pEg[l,gi+L,q]\n",
    "\n",
    "\n",
    "plt.imshow(np.mean(eigen_gij,axis=0))\n",
    "plt.colorbar()\n",
    "plt.show()\n",
    "\n",
    "print(np.mean(eigen_gij,axis=0).flatten())"
   ]
  },
  {
   "cell_type": "code",
   "execution_count": null,
   "id": "6b58bdda",
   "metadata": {},
   "outputs": [],
   "source": [
    "# #-----relation between the eigh\n",
    "# cs=['r','b','k','g','y']\n",
    "# for j in range(eigen_dim*2):\n",
    "\n",
    "#     plt.scatter(cell_vpt,eigen_gij[:,j,j],c=cell_vpt,cmap=plt.cm.jet)\n",
    "# #         plt.yscale('log')\n",
    "#     plt.show()"
   ]
  },
  {
   "cell_type": "code",
   "execution_count": null,
   "id": "d63243ac",
   "metadata": {},
   "outputs": [],
   "source": [
    "velo_re= velo[:,dg['leaves']]\n",
    "\n",
    "velo_eigen1=np.zeros([X.shape[0], eigen_dim])\n",
    "velo_eigen2=np.zeros([X.shape[0], eigen_dim])\n",
    "for i in range(X.shape[0]):\n",
    "    for k in range(len(eigen_X_w1)):\n",
    "#         velo_eigen[i,k]=np.dot(eigen_X_w[k],velo_re[i,T_re==k+1])\n",
    "        velo_eigen1[i,k]=np.dot(eigen_X_w1[k],velo_re[i,T_re==k+1])#*len(eigen_X_w[k])\n",
    "        velo_eigen2[i,k]=np.dot(eigen_X_w2[k],velo_re[i,T_re==k+1])\n",
    "        \n",
    "velo_eigen=np.hstack((velo_eigen1,velo_eigen2))"
   ]
  },
  {
   "cell_type": "code",
   "execution_count": null,
   "id": "d9d945d4",
   "metadata": {},
   "outputs": [],
   "source": [
    "z_velo=[]\n",
    "zv2 = np.array([velo_eigen[l]@eigen_gij[l]@velo_eigen[l] for l in range(eigen_gij.shape[0])])\n",
    "zv1 = np.sqrt(zv2)\n",
    "zv1_smooth=smooth_func(zv1)"
   ]
  },
  {
   "cell_type": "code",
   "execution_count": null,
   "id": "0d31c649",
   "metadata": {},
   "outputs": [],
   "source": [
    "plt.scatter(adata.obsm['X_pca'][:,0],adata.obsm['X_pca'][:,1],s=5,c=zv1,cmap=plt.cm.jet)\n",
    "plt.xlabel('PC1',fontsize=14)\n",
    "plt.ylabel('PC2',fontsize=14)\n",
    "clb=plt.colorbar()\n",
    "clb.ax.set_ylabel('Information velocity',fontsize=14)\n",
    "plt.savefig(result_path+'iv_eigen.png')\n",
    "plt.show()\n",
    "\n",
    "plt.scatter(adata.obsm['X_pca'][:,0],adata.obsm['X_pca'][:,1],s=5,c=zv1_smooth,cmap=plt.cm.jet)\n",
    "plt.xlabel('PC1',fontsize=14)\n",
    "plt.ylabel('PC2',fontsize=14)\n",
    "clb=plt.colorbar()\n",
    "clb.ax.set_ylabel('Information velocity',fontsize=14)\n",
    "plt.savefig(result_path+'iv_smooth_eigen.png')\n",
    "plt.show()\n",
    "\n",
    "# plt.scatter(X_sigma[:,0],X_sigma[:,1], c=zv1, s=2, alpha=0.8,cmap=plt.cm.jet)\n",
    "# plt.colorbar()\n",
    "# plt.show()"
   ]
  },
  {
   "cell_type": "code",
   "execution_count": null,
   "id": "bd63d24c",
   "metadata": {},
   "outputs": [],
   "source": [
    "plt.figure(dpi=600)\n",
    "ln1 = plt.scatter(cell_vpt,crc_smooth,c='blue',label='curvature')\n",
    "plt.xlabel('velovity psuedotime',fontsize=14,weight='bold')\n",
    "plt.ylabel('curvature',fontsize=14,weight='bold')\n",
    "plt.twinx()\n",
    "ln2 = plt.scatter(cell_vpt,zv1_smooth,c='orange',label='info velo')\n",
    "plt.ylabel('info velo',fontsize=14,weight='bold')\n",
    "plt.legend(handles=[ln1,ln2])\n",
    "plt.savefig(result_path+'cviv_eigen.png')\n",
    "plt.show()"
   ]
  },
  {
   "cell_type": "code",
   "execution_count": null,
   "id": "c78c63ab",
   "metadata": {},
   "outputs": [],
   "source": [
    "mask,x_ls,y_ls= kde_lowess(cell_vpt,crc_smooth)\n",
    "plt.scatter(cell_vpt[mask], crc_smooth[mask],s=10,c=cell_vpt[mask],cmap=plt.cm.jet)\n",
    "plt.plot(x_ls, y_ls, linewidth=4,color='red')\n",
    "plt.xlabel('pseudotime',fontsize=14)\n",
    "plt.ylabel('curvature',fontsize=14)\n",
    "# sns.kdeplot(cell_vpt,cRc_smooth,bw_adjust=0.7)\n",
    "clb=plt.colorbar()\n",
    "clb.ax.set_ylabel('pseudotime',fontsize=14)\n",
    "# plt.savefig(result_path+'vpt_cv_kde.png')\n",
    "plt.show()\n",
    "\n",
    "mask,x_ls,y_ls= kde_lowess(cell_vpt,zv1_smooth)\n",
    "plt.scatter(cell_vpt[mask], zv1_smooth[mask],s=10,c=cell_vpt[mask],cmap=plt.cm.jet)\n",
    "plt.plot(x_ls, y_ls, linewidth=4,color='red')\n",
    "plt.xlabel('pseudotime',fontsize=14)\n",
    "plt.ylabel('information velocity',fontsize=14)\n",
    "# sns.kdeplot(cell_vpt,cRc_smooth,bw_adjust=0.7)\n",
    "clb=plt.colorbar()\n",
    "clb.ax.set_ylabel('pseudotime',fontsize=14)\n",
    "plt.savefig(result_path+'vpt_iv_kde_eigen.png')\n",
    "plt.show()"
   ]
  },
  {
   "cell_type": "code",
   "execution_count": null,
   "id": "36026b02",
   "metadata": {},
   "outputs": [],
   "source": [
    "plt.figure(dpi=600)\n",
    "mask,x_ls,y_ls= kde_lowess(cell_vpt,crc_smooth)\n",
    "plt.scatter(cell_vpt[mask], crc_smooth[mask],s=10,c='blue',label='curvature')\n",
    "plt.plot(x_ls, y_ls, linewidth=4,color='red')\n",
    "plt.xlabel('velovity psuedotime',fontsize=14,weight='bold')\n",
    "plt.ylabel('curvature',fontsize=14,weight='bold')\n",
    "mask,x_ls,y_ls= kde_lowess(cell_vpt,zv1_smooth)\n",
    "plt.scatter(cell_vpt[mask], zv1_smooth[mask],s=10,c='orange',label='info velo')\n",
    "plt.plot(x_ls, y_ls, linewidth=4,color='red')\n",
    "plt.legend(handles=[ln1,ln2])\n",
    "plt.savefig(result_path+'cviv_kde_eigen.png')\n",
    "plt.show()"
   ]
  },
  {
   "cell_type": "code",
   "execution_count": null,
   "id": "90af1302",
   "metadata": {},
   "outputs": [],
   "source": [
    "plt.scatter(crc_eu,zv1,s=10)\n",
    "plt.xlabel('curvature',fontsize=14)\n",
    "plt.ylabel('information velocity',fontsize=14)\n",
    "plt.show()\n",
    "\n",
    "plt.scatter(crc_smooth,zv1_smooth,s=10)\n",
    "plt.xlabel('curvature',fontsize=14)\n",
    "plt.ylabel('information velocity',fontsize=14)\n",
    "plt.show()"
   ]
  },
  {
   "cell_type": "code",
   "execution_count": null,
   "id": "6fc7665d",
   "metadata": {},
   "outputs": [],
   "source": [
    "# fig, axes = plt.subplots(nrows=2,ncols=1,sharex=True)#,figsize=(8,6)) \n",
    "# fig.suptitle('Title of this figure')\n",
    "\n",
    "# #subplot1\n",
    "# axes1 = axes[0]\n",
    "# ln1 = axes1.scatter(cell_vpt,smooth_func(orc), color='#1f77b4', ls='--', label='curvature')\n",
    "# axes11 = axes1.twinx()\n",
    "# ln2 = axes11.scatter(cell_vpt,smooth_func(zv1), color='#ff7f0e', ls='--', label='info velo')\n",
    "# axes1.legend(handles=[ln1,ln2],loc=2)\n",
    "\n",
    "# #subplot2\n",
    "# axes2 = axes[1]\n",
    "# axes2.scatter(cell_vpt,cell_eigen_X[:,0], ls='--')\n",
    "# axes2.scatter(cell_vpt,cell_eigen_X[:,1], ls='--')\n",
    "# axes2.scatter(cell_vpt,cell_eigen_X[:,2], ls='--')\n",
    "# axes2.legend()\n",
    "# axes2.set_xlabel('velovity pseudotime')\n",
    "\n",
    "# #展示图片\n",
    "# plt.show()"
   ]
  }
 ],
 "metadata": {
  "kernelspec": {
   "display_name": "Python 3 (ipykernel)",
   "language": "python",
   "name": "python3"
  },
  "language_info": {
   "codemirror_mode": {
    "name": "ipython",
    "version": 3
   },
   "file_extension": ".py",
   "mimetype": "text/x-python",
   "name": "python",
   "nbconvert_exporter": "python",
   "pygments_lexer": "ipython3",
   "version": "3.9.16"
  }
 },
 "nbformat": 4,
 "nbformat_minor": 5
}
