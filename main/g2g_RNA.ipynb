{
 "cells": [
  {
   "cell_type": "code",
   "execution_count": 1,
   "id": "a426ba3c",
   "metadata": {},
   "outputs": [],
   "source": [
    "import scvelo as scv\n",
    "import dynamo as dyn\n",
    "import numpy as np\n",
    "from anndata import AnnData\n",
    "# import loompy\n",
    "from matplotlib import pyplot as plt\n",
    "from sklearn.preprocessing import StandardScaler,MinMaxScaler\n",
    "from scipy.cluster.hierarchy import fcluster,leaders\n",
    "from sklearn.decomposition import PCA\n",
    "from scipy.linalg import inv\n",
    "from scipy.cluster.hierarchy import dendrogram, linkage\n",
    "from sklearn.mixture import GaussianMixture\n",
    "from RKHS import SparseVFC\n",
    "from RKHS import Jacobian_rkhs_gaussian\n",
    "from scipy.stats import multivariate_normal\n",
    "from scipy.sparse import csr_matrix\n",
    "import pandas as pd"
   ]
  },
  {
   "cell_type": "code",
   "execution_count": 2,
   "id": "42ea4669",
   "metadata": {},
   "outputs": [],
   "source": [
    "import argparse\n",
    "import random\n",
    "\n",
    "import scipy.sparse as sp\n",
    "import scipy.sparse.csgraph\n",
    "import sklearn.linear_model as sklm\n",
    "import sklearn.metrics as skm\n",
    "import sklearn.model_selection as skms\n",
    "import torch\n",
    "import torch.nn as nn\n",
    "import torch.nn.functional as F\n",
    "import torch.optim as optim\n",
    "from ignite.engine import Engine, Events\n",
    "from ignite.handlers import ModelCheckpoint\n",
    "from torch.utils.data import DataLoader, IterableDataset, get_worker_info\n",
    "\n",
    "CHECKPOINT_PREFIX = \"g2g\"\n",
    "\n",
    "from g2g_model_Fisher import *\n",
    "from utils import *\n",
    "# from minepy import MINE\n",
    "from sklearn.preprocessing import MinMaxScaler"
   ]
  },
  {
   "cell_type": "code",
   "execution_count": 3,
   "id": "b774f7f4",
   "metadata": {},
   "outputs": [
    {
     "name": "stdout",
     "output_type": "stream",
     "text": [
      "1.10.0\n",
      "11.3\n"
     ]
    },
    {
     "data": {
      "text/plain": [
       "True"
      ]
     },
     "execution_count": 3,
     "metadata": {},
     "output_type": "execute_result"
    }
   ],
   "source": [
    "print(torch.__version__)\n",
    "print(torch.version.cuda)\n",
    "print(torch.cuda.is_available())\n",
    "print(torch.cuda.device_count())\n",
    "print(torch.cuda.current_device())"
   ]
  },
  {
   "cell_type": "code",
   "execution_count": 4,
   "id": "4a1144ed",
   "metadata": {},
   "outputs": [],
   "source": [
    "data_path='data/'\n",
    "result_path='results/'\n",
    "adata0=scv.read('DG_bin.h5ad', cache=True)"
   ]
  },
  {
   "cell_type": "code",
   "execution_count": null,
   "id": "e1795bac",
   "metadata": {},
   "outputs": [],
   "source": [
    "gene_arr=adata0.var.index.values\n",
    "X_pca=adata0.obsm['X_pca']\n",
    "X_umap=adata0.obsm['X_umap']\n",
    "cell_vpt=adata0.obs['velocity_pseudotime'].values#adata0.obs['latent_time'].values#\n",
    "Xs=adata0.layers['Ms']#adata.X.A#\n",
    "X_pca.shape"
   ]
  },
  {
   "cell_type": "code",
   "execution_count": null,
   "id": "819c2c3e",
   "metadata": {},
   "outputs": [],
   "source": [
    "# plt.scatter(X_pca[:,0],X_pca[:,1],s=10,c=cell_vpt,cmap=plt.cm.jet)\n",
    "# plt.xlabel('PC1',fontsize=14)\n",
    "# plt.ylabel('PC2',fontsize=14)\n",
    "# clb=plt.colorbar()\n",
    "\n",
    "\n",
    "# clb.ax.set_ylabel('pseudotime',fontsize=14)\n",
    "\n",
    "# plt.savefig(result_path+'EG_vpt.png',dpi=600)\n",
    "# plt.show()\n",
    "\n",
    "# plt.scatter(X_umap[:,0],X_umap[:,1],s=10,c=cell_vpt,cmap=plt.cm.jet)\n",
    "# plt.show()"
   ]
  },
  {
   "cell_type": "code",
   "execution_count": null,
   "id": "0414f846",
   "metadata": {},
   "outputs": [],
   "source": [
    "#-------data preprocessing\n",
    "k_nei=10\n",
    "adata=adata0.copy()\n",
    "scv.pp.neighbors(adata, n_neighbors=k_nei)\n",
    "scv.pp.pca(adata,n_comps=50)\n",
    "scv.pp.moments(adata, n_pcs=50, n_neighbors=k_nei)"
   ]
  },
  {
   "cell_type": "code",
   "execution_count": 13,
   "id": "deb4e226",
   "metadata": {},
   "outputs": [],
   "source": [
    "row =np.array([np.ones((k_nei,))*i for i in range(adata.shape[0])]).flatten()\n",
    "\n",
    "col=adata.uns['neighbors']['indices'].flatten()\n",
    "\n",
    "w_val=np.array([np.linalg.norm(X_pca[int(i),:]-X_pca[int(j),:]) for i,j in zip(row,col)])\n",
    "\n",
    "adj_val=np.ones(col.shape)\n",
    "\n",
    "A_mat=csr_matrix((adj_val, (row, col)), shape=(adata.shape[0], adata.shape[0]))\n",
    "\n",
    "W_mat=csr_matrix((w_val, (row, col)), shape=(adata.shape[0], adata.shape[0]))"
   ]
  },
  {
   "cell_type": "code",
   "execution_count": null,
   "id": "4b477c39",
   "metadata": {},
   "outputs": [],
   "source": [
    "#--------calculate neighbor distance and define smooth funciton with gaussian kernel\n",
    "#-----check \"Study on density peaks clustering based on k-nearest neighbors and principal component analysis\n",
    "#--------Mingjing Du et al 2016\n",
    "\n",
    "dc=np.amax(w_val)\n",
    "\n",
    "cell_nei=adata.uns['neighbors']['indices']\n",
    "nei_w=[]\n",
    "rho_arr=[]\n",
    "for i in range(cell_nei.shape[0]):\n",
    "    dij=np.array([np.linalg.norm(X_pca[i,:]-X_pca[int(j),:]) for j in cell_nei[i]])\n",
    "    \n",
    "    rho=np.sum(np.exp(-dij**2/dc**2))\n",
    "    nei_w.append(np.exp(-dij**2/dc**2)/rho)\n",
    "    rho_arr.append(rho)\n",
    "rho_arr=np.array(rho_arr)/np.amax(rho_arr)\n",
    "nei_w=np.array(nei_w)"
   ]
  },
  {
   "cell_type": "code",
   "execution_count": null,
   "id": "a41d11bf",
   "metadata": {},
   "outputs": [],
   "source": [
    "# dc=np.mean(w_val)\n",
    "\n",
    "# cell_nei=adata.uns['neighbors']['indices']\n",
    "# nei_w=[]\n",
    "# rho_arr=[]\n",
    "# for ni in adata.uns['neighbors']['indices']:\n",
    "#     dij=np.array([np.linalg.norm(X_pca[int(ni[0]),:]-X_pca[int(i),:]) for i in ni[1:]])\n",
    "    \n",
    "#     rho=np.sum(np.exp(-dij**2/dc**2))\n",
    "# #     rho=np.exp(np.sum(-dij**2/dc**2))\n",
    "#     nei_w.append(np.exp(-dij**2/dc**2)/np.sum(np.exp(-dij**2/dc**2)))\n",
    "# #     print(dij)\n",
    "# #     print(np.exp(-dij**2/dc**2)/np.sum(np.exp(-dij**2/dc**2)))\n",
    "#     rho_arr.append(rho)\n",
    "# rho_arr=np.array(rho_arr)/np.amax(rho_arr)\n",
    "# nei_w=np.array(nei_w)\n",
    "# nei_w=np.hstack((np.ones((nei_w.shape[0],1)),nei_w))/2\n",
    "\n",
    "\n",
    "# plt.scatter(X_pca[:,0],X_pca[:,1],s=5,c=rho_arr,cmap=plt.cm.jet)\n",
    "# plt.colorbar()\n",
    "# plt.show()"
   ]
  },
  {
   "cell_type": "code",
   "execution_count": null,
   "id": "8f1741f0",
   "metadata": {},
   "outputs": [],
   "source": [
    "np.save('results/cell_nei',cell_nei)\n",
    "np.save('results/nei_w',nei_w)"
   ]
  },
  {
   "cell_type": "code",
   "execution_count": null,
   "id": "61f1ef22",
   "metadata": {},
   "outputs": [],
   "source": [
    "def smooth_func(X_val,cell_nei=cell_nei,nei_w=nei_w):\n",
    "    X_s=X_val.copy()\n",
    "    for ci in range(len(X_val)):\n",
    "        X_s[ci]=np.dot(X_val[cell_nei[ci,:]],nei_w[ci,:])\n",
    "    return(X_s)"
   ]
  },
  {
   "cell_type": "code",
   "execution_count": 106,
   "id": "a67d11a0",
   "metadata": {},
   "outputs": [],
   "source": [
    "epochs = 200\n",
    "nsamples = 5\n",
    "learning_rate = 1e-3\n",
    "seed = 0\n",
    "# n_workers = 4\n",
    "K = 4# !!!!!!!!!! K should be large enough\n",
    "\n",
    "\n",
    "if seed is not None:\n",
    "    reset_seeds(seed)\n",
    "\n",
    "A=A_mat\n",
    "# X=Xs\n",
    "X=Xs/np.mean(np.abs(Xs),axis=0)\n",
    "# X=adata.X.A\n",
    "#--------do not normalize X\n",
    "# scaler=StandardScaler()#\n",
    "# X=scaler.fit_transform(X0_ori)\n",
    "z=cell_vpt\n",
    "\n",
    "n = A.shape[0]\n",
    "train_nodes, val_nodes = train_test_split(n, train_ratio=1.0)\n",
    "A_train = A[train_nodes, :][:, train_nodes]\n",
    "X_train = X[train_nodes]\n",
    "z_train = z[train_nodes]\n",
    "A_val = A[val_nodes, :][:, val_nodes]\n",
    "X_val = X[val_nodes]\n",
    "z_val = z[val_nodes]\n",
    "\n",
    "train_data = AttributedGraph(A_train, X_train, z_train, K)\n",
    "val_data = AttributedGraph(A_val, X_val, z_val, K)\n",
    "\n",
    "L = np.load('results/latent_dim.npy')\n",
    "encoder = Encoder(X.shape[1], L)"
   ]
  },
  {
   "cell_type": "code",
   "execution_count": 107,
   "id": "bedb972a",
   "metadata": {},
   "outputs": [],
   "source": [
    "optimizer = optim.Adam(encoder.parameters(), lr=learning_rate)\n",
    "\n",
    "iterations = epochs #// n_workers\n",
    "dataset = GraphDataset(train_data, nsamples, iterations)\n",
    "loader = DataLoader(\n",
    "    dataset,\n",
    "    batch_size=1,\n",
    "#     num_workers=n_workers,\n",
    "    worker_init_fn=reset_seeds,\n",
    "    collate_fn=lambda args: args,\n",
    ")"
   ]
  },
  {
   "cell_type": "code",
   "execution_count": null,
   "id": "42f96327",
   "metadata": {},
   "outputs": [],
   "source": [
    "for batch_idx, data in enumerate(loader):\n",
    "    encoder.train()\n",
    "    optimizer.zero_grad()\n",
    "\n",
    "    loss = encoder.compute_loss(data[0][0],data[0][1],data[0][2],data[0][3],data[0][4],data[0][5])\n",
    "    if batch_idx% 10 == 0:\n",
    "        print(batch_idx,loss)\n",
    "    loss.backward()\n",
    "    optimizer.step()"
   ]
  },
  {
   "cell_type": "code",
   "execution_count": null,
   "id": "e2e6826b",
   "metadata": {},
   "outputs": [],
   "source": [
    "torch.save(encoder,'results/encoder.pt')\n",
    "# torch.save(encoder,'results/L='+str(L)+',K='+str(K)+'.pt')"
   ]
  },
  {
   "cell_type": "code",
   "execution_count": 114,
   "id": "438841ff",
   "metadata": {},
   "outputs": [],
   "source": [
    "mu, sigma = encoder(torch.tensor(X))\n",
    "mu_learned = mu.detach().numpy()\n",
    "sigma_learned = sigma.detach().numpy()\n",
    "\n",
    "Fisher_g=np.zeros((X.shape[0],L*2,L*2))\n",
    "for i in range(X.shape[0]):\n",
    "    for j in range(L):\n",
    "        Fisher_g[i,j,j]=1/sigma_learned[i,j]**2\n",
    "        Fisher_g[i,L+j,L+j]=2/sigma_learned[i,j]**2"
   ]
  },
  {
   "cell_type": "code",
   "execution_count": null,
   "id": "b4f09beb",
   "metadata": {},
   "outputs": [],
   "source": [
    "# plt.scatter(X_mu[:,0],X_mu[:,1],s=10,c=X_label,cmap=plt.cm.jet)\n",
    "# plt.show()\n",
    "\n",
    "\n",
    "# plt.scatter(X_sigma[:,0],X_sigma[:,1],s=10,c=X_label,cmap=plt.cm.jet)\n",
    "# plt.show()\n",
    "\n",
    "# fig = plt.figure(figsize=(6, 4))\n",
    "# ax = fig.add_subplot(111, projection=\"3d\")\n",
    "# fig.add_axes(ax)\n",
    "# ax.scatter(\n",
    "#     X_mu[:, 0],X_mu[:, 1], X_mu[:, 2], c=X_label, s=10, alpha=0.8,cmap=plt.cm.jet\n",
    "# )\n",
    "\n",
    "# ax.set_xlabel(\"$\\mu_1$\",fontsize=16)\n",
    "# ax.set_ylabel(\"$\\mu_2$\",fontsize=16)\n",
    "# ax.set_zlabel(\"$\\mu_3$\",fontsize=16)\n",
    "# plt.savefig(result_path+'DG_Xmu_vpt.png')\n",
    "# plt.show()\n",
    "\n",
    "# fig = plt.figure(figsize=(6, 4))\n",
    "# ax = fig.add_subplot(111, projection=\"3d\")\n",
    "# fig.add_axes(ax)\n",
    "# ax.scatter(\n",
    "#     X_sigma[:, 0],X_sigma[:, 1], X_sigma[:, 2], c=X_label, s=10, alpha=0.8,cmap=plt.cm.jet\n",
    "# )\n",
    "\n",
    "# ax.set_xlabel(\"$\\sigma_1$\",fontsize=16)\n",
    "# ax.set_ylabel(\"$\\sigma_2$\",fontsize=16)\n",
    "# ax.set_zlabel(\"$\\sigma_3$\",fontsize=16)\n",
    "# ax.view_init(elev=10, azim=65, roll=-25)\n",
    "# plt.savefig(result_path+'DG_Xsigma_vpt.png')\n",
    "# plt.show()"
   ]
  },
  {
   "cell_type": "code",
   "execution_count": null,
   "id": "84fd47b8",
   "metadata": {},
   "outputs": [],
   "source": [
    "for i in range(L):\n",
    "    plt.scatter(X_pca[:,0],X_pca[:,1],s=5,c=Fisher_g[:,i,i],cmap=plt.cm.jet)\n",
    "    plt.xlabel('PC1',fontsize=14)\n",
    "    plt.ylabel('PC2',fontsize=14)\n",
    "    \n",
    "    clb=plt.colorbar()\n",
    "    clb.ax.set_ylabel('Fisher matrix',fontsize=14)\n",
    "    plt.savefig(result_path+'g_'+str(i)+'.png')\n",
    "    plt.show()"
   ]
  },
  {
   "cell_type": "code",
   "execution_count": null,
   "id": "e75d9fc1",
   "metadata": {},
   "outputs": [],
   "source": [
    "cRc_arr=[]\n",
    "cRc_arr_eu=[]\n",
    "\n",
    "for inds in np.split(A.indices, A.indptr)[1:-1]:\n",
    "    self_ind=inds[0]\n",
    "    cRc=0\n",
    "    cRc_eu=0\n",
    "    for nei_k in range(1,len(inds)):\n",
    "\n",
    "        dEu=np.linalg.norm(X[self_ind,:]-X[inds[nei_k],:])\n",
    "        dFi=Fisher_dist(mu_learned[self_ind,:],sigma_learned[self_ind,:],\\\n",
    "                        mu_learned[inds[nei_k],:],sigma_learned[inds[nei_k],:])\n",
    "        dWa=wasserstein_distance(mu_learned[self_ind,:],sigma_learned[self_ind,:],\\\n",
    "                        mu_learned[inds[nei_k],:],sigma_learned[inds[nei_k],:])\n",
    "\n",
    "        cRc+=1-dWa/dFi\n",
    "        cRc_eu+=1-dWa/dEu\n",
    "\n",
    "    cRc_arr.append(cRc/len(inds))\n",
    "    cRc_arr_eu.append(cRc_eu/len(inds))\n",
    "crc = np.array(cRc_arr)\n",
    "crc_eu = np.array(cRc_arr_eu)\n",
    "crc_smooth = smooth_func(crc_eu)"
   ]
  },
  {
   "cell_type": "code",
   "execution_count": null,
   "id": "b612d398",
   "metadata": {},
   "outputs": [],
   "source": [
    "np.save('results/crc',crc)\n",
    "np.save('results/crc_eu',crc_eu)\n",
    "np.save('results/crc_smooth',crc_smooth)"
   ]
  },
  {
   "cell_type": "code",
   "execution_count": null,
   "id": "e1cbbfd7",
   "metadata": {},
   "outputs": [],
   "source": [
    "# plt.scatter(adata.obsm['X_pca'][:,0],adata.obsm['X_pca'][:,1], c=crc, s=10, alpha=0.8,cmap=plt.cm.jet)\n",
    "# plt.xlabel('PC1',fontsize=14)\n",
    "# plt.ylabel('PC2',fontsize=14)\n",
    "\n",
    "# clb=plt.colorbar()\n",
    "\n",
    "# clb.ax.set_ylabel('curvature',fontsize=14)\n",
    "# plt.savefig(result_path+'DG_curvature.png')\n",
    "# plt.show()\n",
    "\n",
    "plt.scatter(adata.obsm['X_pca'][:,0],adata.obsm['X_pca'][:,1], c=crc_eu, s=10, alpha=0.8,cmap=plt.cm.jet)\n",
    "plt.xlabel('PC1',fontsize=14)\n",
    "plt.ylabel('PC2',fontsize=14)\n",
    "clb=plt.colorbar()\n",
    "clb.ax.set_ylabel('curvature',fontsize=14)\n",
    "plt.savefig(result_path+'cv.png')\n",
    "plt.show()\n",
    "\n",
    "plt.scatter(adata.obsm['X_pca'][:,0],adata.obsm['X_pca'][:,1], c=crc_smooth, s=10, alpha=0.8,cmap=plt.cm.jet)\n",
    "plt.xlabel('PC1',fontsize=14)\n",
    "plt.ylabel('PC2',fontsize=14)\n",
    "clb=plt.colorbar()\n",
    "clb.ax.set_ylabel('curvature',fontsize=14)\n",
    "plt.savefig(result_path+'cv_smooth.png')\n",
    "plt.show()"
   ]
  },
  {
   "cell_type": "code",
   "execution_count": null,
   "id": "994b5300",
   "metadata": {},
   "outputs": [],
   "source": [
    "cRc_gene_corr=[]\n",
    "for gi in range(Xs.shape[1]):\n",
    "#     print(np.corrcoef(Xs[:,gi],cRc_arr))\n",
    "    cRc_gene_corr.append(np.corrcoef(Xs[:,gi],cRc_arr)[0,1])\n",
    "plt.hist(np.abs(cRc_gene_corr),bins=40,edgecolor='k')\n",
    "plt.show()\n",
    "\n",
    "# cRc_keygene=gene_arr[np.abs(cRc_gene_corr)>0.5]\n",
    "# print(cRc_keygene)\n",
    "\n",
    "# for kg in cRc_keygene:\n",
    "#     scv.pl.scatter(adata, basis='pca', color=kg,colorbar=True)"
   ]
  },
  {
   "cell_type": "code",
   "execution_count": 112,
   "id": "fd356ec8",
   "metadata": {},
   "outputs": [],
   "source": [
    "velo = np.array(adata.layers['velocity'])\n",
    "# pca_dim=20\n",
    "# velo = adata.obsm['velocity_pca'][:,:pca_dim]"
   ]
  },
  {
   "cell_type": "code",
   "execution_count": 115,
   "id": "c3aa90f0",
   "metadata": {},
   "outputs": [],
   "source": [
    "pMu_pX = np.zeros([X.shape[0],L,X.shape[1]])\n",
    "pSgm_pX = np.zeros([X.shape[0],L,X.shape[1]])\n",
    "for i in range(X.shape[0]):\n",
    "    pMu_pX[i],pSgm_pX[i] = Jacobian_nn(X[i],L,encoder)\n",
    "\n",
    "mu_velo = np.array([pMu_pX[i]@velo[i] for i in range(X.shape[0])])\n",
    "sgm_velo = np.array([pSgm_pX[i]@velo[i] for i in range(X.shape[0])])\n",
    "zv2 = np.zeros(X.shape[0])\n",
    "for i in range(X.shape[0]):\n",
    "    for j in range(L):\n",
    "        zv2[i] += Fisher_g[i,j,j]*mu_velo[i,j]**2 + Fisher_g[i,L+j,L+j]*sgm_velo[i,j]**2\n",
    "zv1 = np.sqrt(zv2)\n",
    "zv1_smooth = smooth_func(zv1)"
   ]
  },
  {
   "cell_type": "code",
   "execution_count": null,
   "id": "328aa1db",
   "metadata": {},
   "outputs": [],
   "source": [
    "plt.scatter(adata.obsm['X_pca'][:,0],adata.obsm['X_pca'][:,1],s=5,c=zv1,cmap=plt.cm.jet)\n",
    "plt.xlabel('PC1',fontsize=14)\n",
    "plt.ylabel('PC2',fontsize=14)\n",
    "clb=plt.colorbar()\n",
    "clb.ax.set_ylabel('Information velocity',fontsize=14)\n",
    "plt.savefig(result_path+'iv.png')\n",
    "plt.show()\n",
    "\n",
    "plt.scatter(adata.obsm['X_pca'][:,0],adata.obsm['X_pca'][:,1],s=5,c=zv1_smooth,cmap=plt.cm.jet)\n",
    "plt.xlabel('PC1',fontsize=14)\n",
    "plt.ylabel('PC2',fontsize=14)\n",
    "clb=plt.colorbar()\n",
    "clb.ax.set_ylabel('Information velocity',fontsize=14)\n",
    "plt.savefig(result_path+'iv_smooth.png')\n",
    "plt.show()\n",
    "\n",
    "# plt.scatter(X_sigma[:,0],X_sigma[:,1], c=zv1, s=2, alpha=0.8,cmap=plt.cm.jet)\n",
    "# plt.colorbar()\n",
    "# plt.show()"
   ]
  },
  {
   "cell_type": "code",
   "execution_count": null,
   "id": "74bf6d9b",
   "metadata": {},
   "outputs": [],
   "source": [
    "plt.figure(dpi=600)\n",
    "ln1 = plt.scatter(cell_vpt,crc_smooth,c='blue',label='curvature')\n",
    "plt.xlabel('velovity psuedotime',fontsize=14,weight='bold')\n",
    "plt.ylabel('curvature',fontsize=14,weight='bold')\n",
    "plt.twinx()\n",
    "ln2 = plt.scatter(cell_vpt,zv1_smooth,c='orange',label='info velo')\n",
    "plt.ylabel('info velo',fontsize=14,weight='bold')\n",
    "plt.legend(handles=[ln1,ln2])\n",
    "plt.savefig(result_path+'cviv.png')\n",
    "plt.show()"
   ]
  },
  {
   "cell_type": "code",
   "execution_count": null,
   "id": "6c94be92",
   "metadata": {},
   "outputs": [],
   "source": [
    "mask,x_ls,y_ls= kde_lowess(cell_vpt,crc_smooth)\n",
    "plt.scatter(cell_vpt[mask], crc_smooth[mask],s=10,c=cell_vpt[mask],cmap=plt.cm.jet)\n",
    "plt.plot(x_ls, y_ls, linewidth=4,color='red')\n",
    "plt.xlabel('pseudotime',fontsize=14)\n",
    "plt.ylabel('curvature',fontsize=14)\n",
    "# sns.kdeplot(cell_vpt,cRc_smooth,bw_adjust=0.7)\n",
    "clb=plt.colorbar()\n",
    "clb.ax.set_ylabel('pseudotime',fontsize=14)\n",
    "plt.savefig(result_path+'vpt_cv_kde.png')\n",
    "plt.show()\n",
    "\n",
    "mask,x_ls,y_ls= kde_lowess(cell_vpt,zv1_smooth)\n",
    "plt.scatter(cell_vpt[mask], zv1_smooth[mask],s=10,c=cell_vpt[mask],cmap=plt.cm.jet)\n",
    "plt.plot(x_ls, y_ls, linewidth=4,color='red')\n",
    "plt.xlabel('pseudotime',fontsize=14)\n",
    "plt.ylabel('information velocity',fontsize=14)\n",
    "# sns.kdeplot(cell_vpt,cRc_smooth,bw_adjust=0.7)\n",
    "clb=plt.colorbar()\n",
    "clb.ax.set_ylabel('pseudotime',fontsize=14)\n",
    "plt.savefig(result_path+'vpt_iv_kde.png')\n",
    "plt.show()"
   ]
  },
  {
   "cell_type": "code",
   "execution_count": null,
   "id": "e9d6d982",
   "metadata": {},
   "outputs": [],
   "source": [
    "plt.figure(dpi=600)\n",
    "mask,x_ls,y_ls= kde_lowess(cell_vpt,crc_smooth)\n",
    "plt.scatter(cell_vpt[mask], crc_smooth[mask],s=10,c='blue',label='curvature')\n",
    "plt.plot(x_ls, y_ls, linewidth=4,color='red')\n",
    "plt.xlabel('velovity psuedotime',fontsize=14,weight='bold')\n",
    "plt.ylabel('curvature',fontsize=14,weight='bold')\n",
    "plt.twinx()\n",
    "mask,x_ls,y_ls= kde_lowess(cell_vpt,zv1_smooth)\n",
    "plt.scatter(cell_vpt[mask], zv1_smooth[mask],s=10,c='orange',label='info velo')\n",
    "plt.plot(x_ls, y_ls, linewidth=4,color='red')\n",
    "plt.legend(handles=[ln1,ln2])\n",
    "plt.savefig(result_path+'cviv_kde.png')\n",
    "plt.show()"
   ]
  },
  {
   "cell_type": "code",
   "execution_count": null,
   "id": "ccf6b271",
   "metadata": {},
   "outputs": [],
   "source": [
    "plt.scatter(crc_eu,zv1,s=10)\n",
    "plt.xlabel('curvature',fontsize=14)\n",
    "plt.ylabel('information velocity',fontsize=14)\n",
    "plt.show()\n",
    "\n",
    "plt.scatter(crc_smooth,zv1_smooth,s=10)\n",
    "plt.xlabel('curvature',fontsize=14)\n",
    "plt.ylabel('information velocity',fontsize=14)\n",
    "plt.show()"
   ]
  },
  {
   "cell_type": "code",
   "execution_count": null,
   "id": "d9976713",
   "metadata": {},
   "outputs": [],
   "source": [
    "# zv0 = np.linalg.norm(velo,axis=1)\n",
    "# zv0.shape\n",
    "\n",
    "# ln1 = plt.scatter(cell_vpt,zv1_smooth,c='blue',label='curvature')\n",
    "# plt.xlabel('velovity psuedotime',fontsize=14,weight='bold')\n",
    "# plt.ylabel('curvature',fontsize=14,weight='bold')\n",
    "# plt.twinx()\n",
    "# ln2 = plt.scatter(cell_vpt,smooth_func(zv0),c='orange',label='info velo')\n",
    "# plt.ylabel('info velo',fontsize=14,weight='bold')\n",
    "# plt.legend(handles=[ln1,ln2])\n",
    "# plt.show()"
   ]
  }
 ],
 "metadata": {
  "kernelspec": {
   "display_name": "Python 3 (ipykernel)",
   "language": "python",
   "name": "python3"
  },
  "language_info": {
   "codemirror_mode": {
    "name": "ipython",
    "version": 3
   },
   "file_extension": ".py",
   "mimetype": "text/x-python",
   "name": "python",
   "nbconvert_exporter": "python",
   "pygments_lexer": "ipython3",
   "version": "3.9.16"
  }
 },
 "nbformat": 4,
 "nbformat_minor": 5
}
